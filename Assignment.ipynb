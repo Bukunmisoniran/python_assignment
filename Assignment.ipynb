{
 "cells": [
  {
   "cell_type": "code",
   "execution_count": null,
   "id": "cfec34ba",
   "metadata": {},
   "outputs": [],
   "source": [
    "##assignment 1\n",
    "50 random integers between 3 and 6\n"
   ]
  },
  {
   "cell_type": "code",
   "execution_count": 20,
   "id": "38ac13ac",
   "metadata": {},
   "outputs": [
    {
     "name": "stdout",
     "output_type": "stream",
     "text": [
      "[6, 6, 3, 6, 5, 5, 4, 4, 4, 3, 3, 4, 6, 5, 6, 4, 3, 4, 4, 3, 3, 3, 6, 5, 5, 6, 5, 6, 3, 5, 3, 4, 3, 3, 4, 6, 3, 4, 4, 6, 4, 3, 5, 5, 6, 6, 5, 4, 3, 6]\n"
     ]
    }
   ],
   "source": [
    "import random \n",
    "fifty_int = []\n",
    "for i in range(0, 50):\n",
    "    num = random.randint(3, 6)\n",
    "    fifty_int.append(num)\n",
    "print(fifty_int)"
   ]
  },
  {
   "cell_type": "code",
   "execution_count": 21,
   "id": "135edbcc",
   "metadata": {},
   "outputs": [
    {
     "name": "stdout",
     "output_type": "stream",
     "text": [
      "6\n",
      "3\n",
      "4\n",
      "6\n",
      "4\n",
      "6\n",
      "5\n",
      "6\n",
      "3\n",
      "4\n",
      "5\n",
      "4\n",
      "3\n",
      "5\n",
      "6\n",
      "6\n",
      "4\n",
      "5\n",
      "6\n",
      "4\n",
      "4\n",
      "5\n",
      "3\n",
      "6\n",
      "6\n",
      "5\n",
      "4\n",
      "5\n",
      "3\n",
      "4\n",
      "5\n",
      "6\n",
      "6\n",
      "6\n",
      "4\n",
      "5\n",
      "6\n",
      "6\n",
      "4\n",
      "4\n",
      "6\n",
      "3\n",
      "4\n",
      "5\n",
      "4\n",
      "3\n",
      "4\n",
      "5\n",
      "4\n",
      "4\n"
     ]
    }
   ],
   "source": [
    "import random\n",
    "for i in range(0, 50):\n",
    "    num = random.randint(3, 6)\n",
    "    print(num)"
   ]
  },
  {
   "cell_type": "code",
   "execution_count": 23,
   "id": "2a3f3324",
   "metadata": {},
   "outputs": [
    {
     "name": "stdout",
     "output_type": "stream",
     "text": [
      "[5, 4, 6, 4, 4, 4, 5, 6, 3, 4, 4, 4, 3, 6, 3, 5, 3, 3, 4, 6, 6, 4, 4, 4, 6, 4, 3, 4, 4, 3, 6, 4, 3, 4, 3, 3, 5, 6, 3, 3, 4, 5, 6, 6, 6, 5, 5, 6, 6, 3]\n"
     ]
    }
   ],
   "source": [
    "### random\n",
    "integers = []\n",
    "for i in range(0, 50):\n",
    "    num = random.randint(3, 6)\n",
    "    integers.append(num)\n",
    "print(integers)"
   ]
  },
  {
   "cell_type": "code",
   "execution_count": 30,
   "id": "3e1a27ce",
   "metadata": {},
   "outputs": [
    {
     "name": "stdout",
     "output_type": "stream",
     "text": [
      "3\n",
      "2\n",
      "9\n"
     ]
    }
   ],
   "source": [
    "## 2 random numbers x,between 1, 50 and random number y between 2 and 5 and compute x^y\n",
    "\n",
    "import random\n",
    "x = random.randint(1, 50)\n",
    "y = random.randint(2, 5)\n",
    "print(x)\n",
    "print(y)\n",
    "print(x**y)"
   ]
  },
  {
   "cell_type": "code",
   "execution_count": 46,
   "id": "8cde8df2",
   "metadata": {},
   "outputs": [
    {
     "name": "stdout",
     "output_type": "stream",
     "text": [
      "8\n",
      "['Bukunmi', 'Bukunmi', 'Bukunmi', 'Bukunmi', 'Bukunmi', 'Bukunmi', 'Bukunmi', 'Bukunmi']\n"
     ]
    }
   ],
   "source": [
    "### 3 generate random number between 1, 10 print your name that many times.\n",
    "\n",
    "\n",
    "x = random.randint(1, 10)\n",
    "ten_int = []\n",
    "print(x)\n",
    "for i in range(x):\n",
    "    ten_int.append(\"Bukunmi\")\n",
    "print(ten_int)"
   ]
  },
  {
   "cell_type": "code",
   "execution_count": 63,
   "id": "1f16b8ba",
   "metadata": {},
   "outputs": [
    {
     "data": {
      "text/plain": [
       "6.25"
      ]
     },
     "execution_count": 63,
     "metadata": {},
     "output_type": "execute_result"
    }
   ],
   "source": [
    "###  4 write a program that generates random decimal between 1 and 10 with 2 decimal places of accuracy\n",
    "round(random.uniform(1, 10), 2)"
   ]
  },
  {
   "cell_type": "code",
   "execution_count": 79,
   "id": "785205de",
   "metadata": {},
   "outputs": [
    {
     "name": "stdout",
     "output_type": "stream",
     "text": [
      "[1, 1, 2, 1, 1, 5, 4, 5, 6, 5, 5, 9, 2, 12, 12, 1, 14, 2, 14, 7, 13, 22, 19, 8, 10, 19, 15, 5, 24, 11, 17, 1, 9, 27, 4, 1, 24, 14, 26, 19, 4, 26, 14, 21, 42, 31, 38, 6, 46, 35]\n"
     ]
    }
   ],
   "source": [
    "5 ### 50 random numbers,first number between 1 and 2, second 1 and 3, third 1,4 and the last 1,51\n",
    "\n",
    "random_int = []\n",
    "for i in range (0, 50):\n",
    "    a = random.randint(1, i + 1)\n",
    "    random_int.append(a)  \n",
    "print(random_int)"
   ]
  },
  {
   "cell_type": "code",
   "execution_count": 85,
   "id": "506af336",
   "metadata": {},
   "outputs": [
    {
     "name": "stdout",
     "output_type": "stream",
     "text": [
      "Enter value of x:  4\n",
      "Enter value of y:  5\n",
      "-0.1111111111111111\n"
     ]
    }
   ],
   "source": [
    "#6 program that enters two numbers x and y and computes [x-y]/x+y\n",
    "x = int(input(\"Enter value of x:  \"))\n",
    "y = int(input(\"Enter value of y:  \"))\n",
    "a =(x-y)/(x+y)\n",
    "print(a)"
   ]
  },
  {
   "cell_type": "markdown",
   "id": "2f2dca7a",
   "metadata": {},
   "source": [
    "# ASSIGNMENT 2"
   ]
  },
  {
   "cell_type": "code",
   "execution_count": 91,
   "id": "8b111032",
   "metadata": {},
   "outputs": [
    {
     "name": "stdout",
     "output_type": "stream",
     "text": [
      "Enter a value for a:  200\n",
      "200 seconds is 3 minutes and 20 seconds\n"
     ]
    }
   ],
   "source": [
    "## 8 write a program that asks the user for a number of seconds and prints out how many minutes and seconds that is.\n",
    "a =int(input(\"Enter a value for a:  \"))\n",
    "minutes = round(a / 60)\n",
    "seconds = a % 60\n",
    "print(f\"{a} seconds is {minutes} minutes and {seconds} seconds\")"
   ]
  },
  {
   "cell_type": "code",
   "execution_count": 99,
   "id": "ebffaa24",
   "metadata": {},
   "outputs": [
    {
     "name": "stdout",
     "output_type": "stream",
     "text": [
      "Enter hour:  5\n",
      "How many hours ahead:  8\n",
      "new hour : 1 o'clock\n"
     ]
    }
   ],
   "source": [
    "### 9 write a program that as the user for an hour between 1 and 12,and for how many hours in the future they want to go.\n",
    "## print out what hour wil be that many into the future.\n",
    "\n",
    "current_hour = int(input(\"Enter hour:  \"))\n",
    "future_hour = int(input(\"How many hours ahead:  \"))\n",
    "new_hour =current_hour + future_hour\n",
    "if new_hour > 12:\n",
    "    new_hour = new_hour %12\n",
    "    print(\"new hour :\", new_hour, \"o'clock\")\n",
    "else:\n",
    "    print(\"new hour :\", new_hour, \"o'clock\")"
   ]
  },
  {
   "cell_type": "code",
   "execution_count": 108,
   "id": "88b8fc15",
   "metadata": {},
   "outputs": [
    {
     "name": "stdout",
     "output_type": "stream",
     "text": [
      "Enter power:  3\n",
      "8\n"
     ]
    }
   ],
   "source": [
    "### 10 a)\n",
    "x = int(input(\"Enter power:  \"))\n",
    "y = 2%10\n",
    "print(y ** x)"
   ]
  },
  {
   "cell_type": "code",
   "execution_count": 113,
   "id": "1f855bb5",
   "metadata": {},
   "outputs": [
    {
     "name": "stdout",
     "output_type": "stream",
     "text": [
      "Enter power:  2\n",
      "4\n"
     ]
    }
   ],
   "source": [
    "### 10 b)\n",
    "x = int(input(\"Enter power:  \"))\n",
    "y = 2%100\n",
    "print(y ** x)"
   ]
  },
  {
   "cell_type": "code",
   "execution_count": null,
   "id": "815973bb",
   "metadata": {},
   "outputs": [],
   "source": [
    "### 10 c)\n",
    "x = int(input(\"Enter power:  \"))"
   ]
  },
  {
   "cell_type": "code",
   "execution_count": null,
   "id": "653b47eb",
   "metadata": {},
   "outputs": [],
   "source": []
  }
 ],
 "metadata": {
  "kernelspec": {
   "display_name": "Python 3 (ipykernel)",
   "language": "python",
   "name": "python3"
  },
  "language_info": {
   "codemirror_mode": {
    "name": "ipython",
    "version": 3
   },
   "file_extension": ".py",
   "mimetype": "text/x-python",
   "name": "python",
   "nbconvert_exporter": "python",
   "pygments_lexer": "ipython3",
   "version": "3.9.7"
  }
 },
 "nbformat": 4,
 "nbformat_minor": 5
}
